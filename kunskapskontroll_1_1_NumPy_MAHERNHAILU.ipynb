{
 "cells": [
  {
   "cell_type": "markdown",
   "id": "dacf74e6",
   "metadata": {},
   "source": [
    "# NumPy"
   ]
  },
  {
   "cell_type": "markdown",
   "id": "01b2bf34",
   "metadata": {},
   "source": [
    "Read the links: https://numpy.org/doc/stable/user/quickstart.html  and https://numpy.org/doc/stable/user/basics.broadcasting.html  before solving the exercises. "
   ]
  },
  {
   "cell_type": "code",
   "execution_count": 2,
   "id": "1f79e4a6",
   "metadata": {},
   "outputs": [],
   "source": [
    "import numpy as np"
   ]
  },
  {
   "cell_type": "markdown",
   "id": "7dae6889",
   "metadata": {},
   "source": [
    "### Print out the dimension (number of axes), shape, size and the datatype of the matrix A."
   ]
  },
  {
   "cell_type": "code",
   "execution_count": 3,
   "id": "7b3678cd",
   "metadata": {},
   "outputs": [],
   "source": [
    "A = np.arange(1, 16).reshape(3,5)"
   ]
  },
  {
   "cell_type": "code",
   "execution_count": 4,
   "id": "31d39235",
   "metadata": {},
   "outputs": [
    {
     "name": "stdout",
     "output_type": "stream",
     "text": [
      "Dimensions (number of axis) 2\n",
      "Shape (3, 5)\n",
      "Size 15\n",
      "Data type int64\n"
     ]
    }
   ],
   "source": [
    "print(\"Dimensions (number of axis)\", A.ndim)\n",
    "print (\"Shape\", A.shape)\n",
    "print (\"Size\", A.size)\n",
    "print (\"Data type\", A.dtype)"
   ]
  },
  {
   "cell_type": "markdown",
   "id": "e56d2a96",
   "metadata": {},
   "source": [
    "### Do the following computations on the matrices B and C: \n",
    "* Elementwise subtraction. \n",
    "* Elementwise multiplication. \n",
    "* Matrix multiplication (by default you should use the @ operator)."
   ]
  },
  {
   "cell_type": "code",
   "execution_count": 5,
   "id": "a7053fbb",
   "metadata": {},
   "outputs": [
    {
     "name": "stdout",
     "output_type": "stream",
     "text": [
      "[[1 2 3]\n",
      " [4 5 6]\n",
      " [7 8 9]]\n",
      "\n",
      "[[2. 2. 2.]\n",
      " [2. 2. 2.]\n",
      " [2. 2. 2.]]\n"
     ]
    }
   ],
   "source": [
    "B = np.arange(1, 10).reshape(3, 3)\n",
    "C = np.ones((3, 3))*2\n",
    "\n",
    "print(B)\n",
    "print()\n",
    "print(C)"
   ]
  },
  {
   "cell_type": "code",
   "execution_count": 6,
   "id": "3cd794ae",
   "metadata": {},
   "outputs": [
    {
     "name": "stdout",
     "output_type": "stream",
     "text": [
      "Elementwise subtraction\n",
      " [[-1.  0.  1.]\n",
      " [ 2.  3.  4.]\n",
      " [ 5.  6.  7.]]\n",
      "\n",
      "Elementwise multiplication\n",
      " [[ 2.  4.  6.]\n",
      " [ 8. 10. 12.]\n",
      " [14. 16. 18.]]\n",
      "\n",
      "Matrix Multiplication\n",
      " [[12. 12. 12.]\n",
      " [30. 30. 30.]\n",
      " [48. 48. 48.]]\n"
     ]
    }
   ],
   "source": [
    "elementwisesub = B - C\n",
    "print(\"Elementwise subtraction\\n\", elementwisesub)\n",
    "print()\n",
    "elementwisemult = B * C\n",
    "print(\"Elementwise multiplication\\n\", elementwisemult)\n",
    "print()\n",
    "matrixmult = B @ C\n",
    "print(\"Matrix Multiplication\\n\", matrixmult)"
   ]
  },
  {
   "cell_type": "markdown",
   "id": "96030d53",
   "metadata": {},
   "source": [
    "### Do the following calculations on the matrix:\n",
    "* Exponentiate each number elementwise (use the np.exp function).\n",
    "\n",
    "* Calculate the minimum value in the whole matrix. \n",
    "* Calculcate the minimum value in each row. \n",
    "* Calculcate the minimum value in each column. \n",
    "\n",
    "\n",
    "* Find the index value for the minimum value in the whole matrix (hint: use np.argmin).\n",
    "* Find the index value for the minimum value in each row (hint: use np.argmin).\n",
    "\n",
    "\n",
    "* Calculate the sum for all elements.\n",
    "* Calculate the mean for each column. \n",
    "* Calculate the median for each column. "
   ]
  },
  {
   "cell_type": "code",
   "execution_count": 7,
   "id": "f8a9166b",
   "metadata": {},
   "outputs": [
    {
     "name": "stdout",
     "output_type": "stream",
     "text": [
      "[[1 2 3]\n",
      " [4 5 6]\n",
      " [7 8 9]]\n"
     ]
    }
   ],
   "source": [
    "B = np.arange(1, 10).reshape(3, 3)\n",
    "print(B)"
   ]
  },
  {
   "cell_type": "code",
   "execution_count": 8,
   "id": "f03f24f7",
   "metadata": {},
   "outputs": [
    {
     "name": "stdout",
     "output_type": "stream",
     "text": [
      "Exponentiated matrix\n",
      " [[2.71828183e+00 7.38905610e+00 2.00855369e+01]\n",
      " [5.45981500e+01 1.48413159e+02 4.03428793e+02]\n",
      " [1.09663316e+03 2.98095799e+03 8.10308393e+03]]\n",
      "\n",
      "Minimum value for whole matrix\n",
      " 1\n",
      "\n",
      "Minimum value for each row\n",
      " [1 4 7]\n",
      "\n",
      "Minimun value for each column\n",
      " [1 2 3]\n",
      "\n",
      "Index value for minimum in whole matrix\n",
      " 0\n",
      "\n",
      "Index of the minimum value in each row: [0 0 0]\n",
      "\n",
      "Sum all of the elements\n",
      " 45\n",
      "\n",
      "Mean for each column: [4. 5. 6.]\n",
      "\n",
      "Median for Columns\n",
      " [4. 5. 6.]\n"
     ]
    }
   ],
   "source": [
    "expmatrix = np.exp(B)\n",
    "print(\"Exponentiated matrix\\n\", expmatrix)\n",
    "print()\n",
    "minval_matrix = np.min(B)\n",
    "print(\"Minimum value for whole matrix\\n\", minval_matrix)\n",
    "print()\n",
    "minval_row = np.min(B, axis=1)\n",
    "print(\"Minimum value for each row\\n\", minval_row)\n",
    "print()\n",
    "minval_col = np.min(B, axis=0)\n",
    "print(\"Minimun value for each column\\n\", minval_col)\n",
    "print()\n",
    "indexmin_matrix = np.argmin(B)\n",
    "print(\"Index value for minimum in whole matrix\\n\", indexmin_matrix)\n",
    "print()\n",
    "indexmin_row = np.argmin(B, axis=1)\n",
    "print(\"Index of the minimum value in each row:\", indexmin_row)\n",
    "print()\n",
    "sumall_elem = np.sum(B)\n",
    "print(\"Sum all of the elements\\n\", sumall_elem)\n",
    "print()\n",
    "mean_col = np.mean(B, axis=0)\n",
    "print(\"Mean for each column:\", mean_col)\n",
    "print()\n",
    "medi_col = np.median(B, axis=0)\n",
    "print(\"Median for Columns\\n\", medi_col)"
   ]
  },
  {
   "cell_type": "markdown",
   "id": "541eb7ba",
   "metadata": {},
   "source": [
    "### What does it mean when you provide fewer indices than axes when slicing? See example below."
   ]
  },
  {
   "cell_type": "code",
   "execution_count": 9,
   "id": "9c8abf56",
   "metadata": {},
   "outputs": [
    {
     "name": "stdout",
     "output_type": "stream",
     "text": [
      "[[ 1  2  3  4  5]\n",
      " [ 6  7  8  9 10]\n",
      " [11 12 13 14 15]]\n"
     ]
    }
   ],
   "source": [
    "print(A)"
   ]
  },
  {
   "cell_type": "code",
   "execution_count": 10,
   "id": "69415f7b",
   "metadata": {},
   "outputs": [
    {
     "data": {
      "text/plain": [
       "array([ 6,  7,  8,  9, 10])"
      ]
     },
     "execution_count": 10,
     "metadata": {},
     "output_type": "execute_result"
    }
   ],
   "source": [
    "A[1]"
   ]
  },
  {
   "cell_type": "markdown",
   "id": "6c53541b",
   "metadata": {},
   "source": [
    "**Answer:**"
   ]
  },
  {
   "cell_type": "code",
   "execution_count": 11,
   "id": "de01e120",
   "metadata": {},
   "outputs": [],
   "source": [
    "# Numpy will assume i want all  the elements from the unspecfidied axes, \n",
    "# like in the above example, we've only asked for the for the first row\n",
    "# but numpy returns all from row 1 since we have specified when it shoudl stop"
   ]
  },
  {
   "cell_type": "markdown",
   "id": "6652d0c9",
   "metadata": {},
   "source": [
    "### Iterating over multidimensional arrays is done with respect to the first axis, so in the example below we iterate trough the rows. If you would like to iterate through the array *elementwise*, how would you do that?"
   ]
  },
  {
   "cell_type": "code",
   "execution_count": 12,
   "id": "9459864f",
   "metadata": {},
   "outputs": [
    {
     "data": {
      "text/plain": [
       "array([[ 1,  2,  3,  4,  5],\n",
       "       [ 6,  7,  8,  9, 10],\n",
       "       [11, 12, 13, 14, 15]])"
      ]
     },
     "execution_count": 12,
     "metadata": {},
     "output_type": "execute_result"
    }
   ],
   "source": [
    "A"
   ]
  },
  {
   "cell_type": "code",
   "execution_count": 13,
   "id": "a671bb5a",
   "metadata": {},
   "outputs": [
    {
     "name": "stdout",
     "output_type": "stream",
     "text": [
      "[1 2 3 4 5]\n",
      "[ 6  7  8  9 10]\n",
      "[11 12 13 14 15]\n"
     ]
    }
   ],
   "source": [
    "for i in A:\n",
    "    print(i)"
   ]
  },
  {
   "cell_type": "code",
   "execution_count": 14,
   "id": "f4e443a0",
   "metadata": {},
   "outputs": [
    {
     "name": "stdout",
     "output_type": "stream",
     "text": [
      "1\n",
      "2\n",
      "3\n",
      "4\n",
      "5\n",
      "6\n",
      "7\n",
      "8\n",
      "9\n",
      "10\n",
      "11\n",
      "12\n",
      "13\n",
      "14\n",
      "15\n"
     ]
    }
   ],
   "source": [
    "#use the function np.nditer from numpy\n",
    "for i in np.nditer(A):\n",
    "     print(i)"
   ]
  },
  {
   "cell_type": "markdown",
   "id": "608a2583",
   "metadata": {},
   "source": [
    "### Explain what the code below does. More specifically, b has three axes - what does this mean? "
   ]
  },
  {
   "cell_type": "code",
   "execution_count": 15,
   "id": "f8f9b26f",
   "metadata": {},
   "outputs": [
    {
     "name": "stdout",
     "output_type": "stream",
     "text": [
      "[ 0  1  2  3  4  5  6  7  8  9 10 11 12 13 14 15 16 17 18 19 20 21 22 23\n",
      " 24 25 26 27 28 29]\n",
      "\n",
      "[[[ 0  1  2  3  4]\n",
      "  [ 5  6  7  8  9]\n",
      "  [10 11 12 13 14]]\n",
      "\n",
      " [[15 16 17 18 19]\n",
      "  [20 21 22 23 24]\n",
      "  [25 26 27 28 29]]]\n"
     ]
    }
   ],
   "source": [
    "a = np.arange(30)\n",
    "b = a.reshape((2, 3, -1))\n",
    "print(a)\n",
    "print()\n",
    "\n",
    "print(b)"
   ]
  },
  {
   "cell_type": "code",
   "execution_count": 16,
   "id": "863a45df",
   "metadata": {},
   "outputs": [],
   "source": [
    "#the code first makes an array with 30 elements, 1 through 30 become 0 through 29\n",
    "#then a.reshape(()) turns the array into a 3D array with 3 axes\n",
    "#B having 3 axes means the new array has 2 blocks with 3 rows each, each has 5 elements per row"
   ]
  },
  {
   "cell_type": "markdown",
   "id": "ab5933d5",
   "metadata": {},
   "source": [
    "### Broadcasting\n",
    "**Read the following link about broadcasting: https://numpy.org/doc/stable/user/basics.broadcasting.html#basics-broadcasting**"
   ]
  },
  {
   "cell_type": "markdown",
   "id": "039805ba",
   "metadata": {},
   "source": [
    "# Remark on Broadcasting when doing Linear Algebra calculations in Python. "
   ]
  },
  {
   "cell_type": "markdown",
   "id": "c4bcc147",
   "metadata": {},
   "source": [
    "### From the mathematical rules of matrix addition, the operation below (m1 + m2) does not make sense. The reason is that matrix addition requires two matrices of the same size. In Python however, it works due to broadcasting rules in NumPy. So you must be careful when doing Linear Algebra calculations in Python since they do not follow the \"mathematical rules\". This can however easily be handled by doing some simple programming, for example validating that two matrices have the same shape is easy if you for instance want to add two matrices. "
   ]
  },
  {
   "cell_type": "code",
   "execution_count": 17,
   "id": "1fd46778",
   "metadata": {},
   "outputs": [
    {
     "name": "stdout",
     "output_type": "stream",
     "text": [
      "[[2 3]\n",
      " [4 5]]\n"
     ]
    }
   ],
   "source": [
    "m1 = np.array([[1, 2], [3, 4]])\n",
    "m2 = np.array([1, 1])\n",
    "print(m1 + m2)"
   ]
  },
  {
   "cell_type": "markdown",
   "id": "047d6576",
   "metadata": {},
   "source": [
    "### The example below would also not be allowed if following the \"mathematical rules\" in Linear Algebra. But it works due to broadcasting in NumPy. "
   ]
  },
  {
   "cell_type": "code",
   "execution_count": 18,
   "id": "5e6ef2e4",
   "metadata": {},
   "outputs": [
    {
     "name": "stdout",
     "output_type": "stream",
     "text": [
      "[2 3 4]\n"
     ]
    }
   ],
   "source": [
    "v1 = np.array([1, 2, 3])\n",
    "print(v1 + 1)"
   ]
  },
  {
   "cell_type": "code",
   "execution_count": 19,
   "id": "e2cbae26",
   "metadata": {},
   "outputs": [
    {
     "name": "stdout",
     "output_type": "stream",
     "text": [
      "[[1 2]\n",
      " [3 4]]\n",
      "[2 2]\n"
     ]
    }
   ],
   "source": [
    "A = np.arange(1, 5).reshape(2,2)\n",
    "print(A)\n",
    "\n",
    "b = np.array([2, 2])\n",
    "print(b)"
   ]
  },
  {
   "cell_type": "markdown",
   "id": "722fd5cd",
   "metadata": {},
   "source": [
    "# Vector- and matrix algebra Exercises"
   ]
  },
  {
   "cell_type": "markdown",
   "id": "b63a3081-d976-4d9f-bfd0-a63917e79f7d",
   "metadata": {},
   "source": [
    "**Now you are going to create a function that can be reused every time you add or multiply matrices. The function is created so that we do the addition and multiplication according to the rules of vector- and matrix algebra.**\n",
    "\n",
    "**Create a function \"add_mult_matrices\" that takes two matrices as input arguments (validate that the input are of the type numpy.ndarray by using the isinstance function), a third argument that is either 'add' or 'multiply' that specifies if you want to add or multiply the matrices (validate that the third argument is either 'add' or 'multiply'). When doing matrix addition, validate that the matrices have the same size. When doing matrix multiplication, validate that the sizes conform (i.e. number of columns in the first matrix is equal to the number of rows in the second matrix).**"
   ]
  },
  {
   "cell_type": "code",
   "execution_count": 73,
   "id": "3506f977-ac0a-473f-85bc-eec9f35dc498",
   "metadata": {},
   "outputs": [
    {
     "name": "stdout",
     "output_type": "stream",
     "text": [
      "[[ 3  7]\n",
      " [11 15]]\n",
      "\n",
      "[[22 34]\n",
      " [46 74]]\n"
     ]
    }
   ],
   "source": [
    "def add_mult_matrices(mat1, mat2, operation):\n",
    "    if not isinstance(mat1, np.ndarray) or not isinstance(mat2, np.ndarray):\n",
    "        raise TypeError(\"Error, Both inpts must be of type numpy.ndarray\")\n",
    "    if operation not in ['add', 'multiply']:\n",
    "        print(\"Error, Operation 'add' or 'mulitply' only\")\n",
    "    \n",
    "    if operation == 'add':\n",
    "        if mat1.shape != mat2.shape:\n",
    "            raise ValueError(\"Error, both matrices must be the same size!\")\n",
    "        return mat1 + mat2\n",
    "\n",
    "    if operation == 'multiply':\n",
    "        if mat1.shape[1] != mat2.shape[0]:\n",
    "            raise ValueError(\"Error, number of columns in first matrix must be equal to the number of rows in the second! .\")\n",
    "        return np.dot(mat1, mat2)\n",
    "    \n",
    "A = np.array([[2, 4,], [6, 8]])\n",
    "B = np.array([[1, 3], [5, 7]])\n",
    "\n",
    "print(add_mult_matrices(A, B, 'add'))\n",
    "print()\n",
    "print(add_mult_matrices(A, B, 'multiply'))    "
   ]
  },
  {
   "cell_type": "markdown",
   "id": "8dad82d0-2359-4dff-8f5b-a57d3e34103c",
   "metadata": {},
   "source": [
    "### Solve all the exercises in chapter 10.1 in the book \"Matematik för yrkeshögskolan\". "
   ]
  },
  {
   "cell_type": "code",
   "execution_count": 40,
   "id": "89df88af-3668-4d98-a0a4-e6d92eea0f89",
   "metadata": {},
   "outputs": [
    {
     "name": "stdout",
     "output_type": "stream",
     "text": [
      "10.1.1\n",
      "A) X's Dimentions: (2,)\n",
      "\n",
      "B) 5x= [20 15]\n",
      "\n",
      "C) 3x= [12  9]\n",
      "\n",
      "D) 5x+3x= [32 24]\n",
      "\n",
      "E) 8x= [32 24]\n",
      "\n",
      "F) 4x-x= [12  9]\n",
      "\n",
      "G) X transposed and new dimensions: [[4]\n",
      " [3]] (2, 1)\n",
      "\n",
      "H) Is x+xT defined? No because the shapes dont match\n",
      "\n",
      "I) ||x||= 5.0\n",
      "I) Manual ||x||= 5.0\n"
     ]
    }
   ],
   "source": [
    "x = np.array([4, 3])\n",
    "\n",
    "print(\"10.1.1\")\n",
    "print(\"A) X's Dimentions:\", x.shape)\n",
    "print()\n",
    "print(\"B) 5x=\", 5*x)\n",
    "print()\n",
    "print(\"C) 3x=\", 3*x)\n",
    "print()\n",
    "print(\"D) 5x+3x=\", (5*x) + (3*x))\n",
    "print()\n",
    "print(\"E) 8x=\", 8*x)\n",
    "print()\n",
    "print(\"F) 4x-x=\", (4*x) - x)\n",
    "print()\n",
    "xtransp = x.reshape(2,1)\n",
    "print(\"G) X transposed and new dimensions:\", xtransp, xtransp.shape)\n",
    "print()\n",
    "print(\"H) Is x+xT defined? No because the shapes dont match\")\n",
    "print()\n",
    "print(\"I) ||x||=\", np.linalg.norm(x))\n",
    "#not sure if i need to do it manually since there is a function for finding the norm, but:\n",
    "print(\"I) Manual ||x||=\", ((4**2)+(3**2))**0.5)\n",
    "\n"
   ]
  },
  {
   "cell_type": "code",
   "execution_count": 38,
   "id": "ea39f45e",
   "metadata": {},
   "outputs": [
    {
     "name": "stdout",
     "output_type": "stream",
     "text": [
      "10.1.2\n",
      "A) Dimensions of v (4, 1)\n",
      "\n",
      "B) 2v = [[ 6]\n",
      " [14]\n",
      " [ 0]\n",
      " [22]]\n",
      "\n",
      "C) 5v+2v = [[21]\n",
      " [49]\n",
      " [ 0]\n",
      " [77]]\n",
      "\n",
      "D) 4v-2v = [[ 6]\n",
      " [14]\n",
      " [ 0]\n",
      " [22]]\n",
      "\n",
      "E) V transposed and new dimensions: [[ 3  7  0 11]] (1, 4)\n",
      "\n",
      "F) ||v||= 13.379088160259652\n",
      "F) ||v||= 13.379088160259652\n"
     ]
    }
   ],
   "source": [
    "print(\"10.1.2\")\n",
    "v = np.array([3, 7, 0, 11]).reshape(4, 1)\n",
    "print(\"A) Dimensions of v\", v.shape)\n",
    "print()\n",
    "print(\"B) 2v =\", 2*v)\n",
    "print()\n",
    "print(\"C) 5v+2v =\", (5*v)+(2*v))\n",
    "print()\n",
    "print(\"D) 4v-2v =\", (4*v)-(2*v))\n",
    "print()\n",
    "vtransp = v.reshape(1, 4)\n",
    "print(\"E) V transposed and new dimensions:\", vtransp, vtransp.shape)\n",
    "print()\n",
    "print(\"F) ||v||=\", np.linalg.norm(v))\n",
    "print(\"F) Manual ||v||=\", ((3**2) + (7**2) + (0**2) + (11**2))**0.5)"
   ]
  },
  {
   "cell_type": "code",
   "execution_count": 50,
   "id": "c2cc06d6",
   "metadata": {},
   "outputs": [
    {
     "name": "stdout",
     "output_type": "stream",
     "text": [
      "10.1.3\n",
      "A) ||v1|| = 7.14142842854285\n",
      "[2 0 0 4]\n",
      "B) ||v1-v2|| = 4.47213595499958\n"
     ]
    }
   ],
   "source": [
    "print (\"10.1.3\")\n",
    "v1 = np.array([4, 3, 1, 5])\n",
    "v2 = np.array([2, 3, 1, 1])\n",
    "print(\"A) ||v1|| =\", ((4**2)+(3**2)+(1**2)+(5**2))**0.5)\n",
    "print(v1-v2)\n",
    "print(\"B) ||v1-v2|| =\", ((2**2)+(0**2)+(0**2)+(4**2))**0.5)"
   ]
  },
  {
   "cell_type": "markdown",
   "id": "75c98984-1f88-4df1-b850-d2466de444a5",
   "metadata": {},
   "source": [
    "### Solve all the exercises, except 10.2.4, in chapter 10.2 in the book \"Matematik för yrkeshögskolan\". "
   ]
  },
  {
   "cell_type": "code",
   "execution_count": 81,
   "id": "65371610-16e1-48b2-b7fb-65e49002608a",
   "metadata": {},
   "outputs": [
    {
     "name": "stdout",
     "output_type": "stream",
     "text": [
      "10.2.1\n",
      "A) 2A = [[ 4  2 -2]\n",
      " [ 2 -2  2]]\n",
      "\n",
      "B) B-2A = [[ 0 -4  3]\n",
      " [ 0 -2 -4]]\n",
      "\n",
      "C) 3C-2E = It's not defined since the shapes don't match\n",
      "\n",
      "D) 2D-3C = [[3 2]\n",
      " [2 3]]\n",
      "\n",
      "E) Dt+2D = [[ 9 12]\n",
      " [12  9]]\n",
      "\n",
      "F) 2Ct - 2Dt = [[-4 -4]\n",
      " [-4 -4]]\n",
      "\n",
      "G) At - B = It's not defined since the shapes don't match\n",
      "\n",
      "H) AC = It's not defined since the shapes don't match\n",
      "\n",
      "I) CD =  [[11 10]\n",
      " [10 11]]\n",
      "\n",
      "J) CB = It's not defined since the shapes don't match\n",
      "\n",
      "K) CI = [[1 2]\n",
      " [2 1]]\n",
      "\n",
      "L) ABt = [[5 2]\n",
      " [7 4]]\n"
     ]
    }
   ],
   "source": [
    "print(\"10.2.1\")\n",
    "A = np.array([[2, 1, -1], [1, -1, 1]])\n",
    "B = np.array([[4, -2, 1], [2, -4, -2]])\n",
    "C = np.array([[1, 2], [2, 1]])\n",
    "D = np.array([[3, 4], [4, 3]])\n",
    "E = np.array([[1], [2]])\n",
    "I = np.array([[1, 0], [0, 1]])\n",
    "\n",
    "print(\"A) 2A =\", 2 * A)\n",
    "print()\n",
    "print(\"B) B-2A =\", B - 2*A)\n",
    "print()\n",
    "print(\"C) 3C-2E = It's not defined since the shapes don't match\")\n",
    "print()\n",
    "print(\"D) 2D-3C =\", 2*D - 3*C)\n",
    "print()\n",
    "print(\"E) Dt+2D =\", D.T + 2*D)\n",
    "print()\n",
    "print(\"F) 2Ct - 2Dt =\", (2 * C.T) - (2 * D.T))\n",
    "print()\n",
    "print(\"G) At - B = It's not defined since the shapes don't match\")\n",
    "print()\n",
    "print(\"H) AC = It's not defined since the shapes don't match\")\n",
    "print()\n",
    "print(\"I) CD = \", np.dot(C, D))\n",
    "print()\n",
    "print(\"J) CB = It's not defined since the shapes don't match\")\n",
    "print()\n",
    "print(\"K) CI =\", np.dot(C, I))\n",
    "print()\n",
    "print(\"L) ABt =\", np.dot (A, B.T))"
   ]
  },
  {
   "cell_type": "code",
   "execution_count": 93,
   "id": "241a8169",
   "metadata": {},
   "outputs": [
    {
     "name": "stdout",
     "output_type": "stream",
     "text": [
      "10.2.2\n",
      "AAt = [[29 26]\n",
      " [26 42]]\n",
      "\n",
      "10.2.3\n",
      "AB =\n",
      " [[ 4  7]\n",
      " [ 8 14]]\n",
      "AC =\n",
      " [[ 4  7]\n",
      " [ 8 14]]\n",
      "\n",
      "B =\n",
      " [[2 1]\n",
      " [1 3]]\n",
      "C =\n",
      " [[4 3]\n",
      " [0 2]]\n"
     ]
    }
   ],
   "source": [
    "print(\"10.2.2\")\n",
    "A = np.array([[2, 3, 4], [5, 4, 1]])\n",
    "print(\"AAt =\", np.dot(A, A.T))\n",
    "print()\n",
    "print(\"10.2.3\")\n",
    "A = np.array([[1, 2], [2, 4]])\n",
    "B = np.array([[2, 1], [1, 3]])\n",
    "C = np.array([[4, 3], [0, 2]])\n",
    "print(\"AB =\\n\", np.dot(A, B))\n",
    "print(\"AC =\\n\", np.dot(A, C))\n",
    "print()\n",
    "print(\"B =\\n\", B)\n",
    "print(\"C =\\n\", C)\n",
    "#We can see that the usual rules of arithmatic dont apply with scales here, where AB = AC,\n",
    "#usually we would say then B=C, but we can see that B does not = C when it comes to multiplying matrices\n",
    "\n",
    "\n"
   ]
  },
  {
   "cell_type": "markdown",
   "id": "6a4a524f",
   "metadata": {},
   "source": [
    "### Copies and Views\n",
    "Read the following link: https://numpy.org/doc/stable/user/basics.copies.html"
   ]
  },
  {
   "cell_type": "markdown",
   "id": "6cbbeaf7",
   "metadata": {},
   "source": [
    "**Basic indexing creates a view, How can you check if v1 and v2 is a view or copy? If you change the last element in v2 to 123, will the last element in v1 be changed? Why?**"
   ]
  },
  {
   "cell_type": "code",
   "execution_count": 94,
   "id": "5b9ef4df",
   "metadata": {},
   "outputs": [
    {
     "name": "stdout",
     "output_type": "stream",
     "text": [
      "[0 1 2 3]\n",
      "[2 3]\n"
     ]
    }
   ],
   "source": [
    "v1 = np.arange(4)\n",
    "v2 = v1[-2:]\n",
    "print(v1)\n",
    "print(v2)"
   ]
  },
  {
   "cell_type": "code",
   "execution_count": 95,
   "id": "d2440489",
   "metadata": {},
   "outputs": [
    {
     "name": "stdout",
     "output_type": "stream",
     "text": [
      "None\n",
      "[0 1 2 3]\n"
     ]
    }
   ],
   "source": [
    "# The base attribute of a view returns the original array while it returns None for a copy.\n",
    "print(v1.base)\n",
    "print(v2.base)"
   ]
  },
  {
   "cell_type": "code",
   "execution_count": 96,
   "id": "c8752807",
   "metadata": {},
   "outputs": [
    {
     "name": "stdout",
     "output_type": "stream",
     "text": [
      "[  0   1   2 123]\n",
      "[  2 123]\n"
     ]
    }
   ],
   "source": [
    "# The last element in v1 will be changed aswell since v2 is a view, meaning they share the same data buffer.\n",
    "v2[-1] = 123\n",
    "print(v1)\n",
    "print(v2)"
   ]
  },
  {
   "cell_type": "code",
   "execution_count": null,
   "id": "3dd68221",
   "metadata": {},
   "outputs": [],
   "source": [
    "#because views in numpy don't make new copies of data, they give another way to get the data, to save memory\n"
   ]
  }
 ],
 "metadata": {
  "kernelspec": {
   "display_name": "Python 3 (ipykernel)",
   "language": "python",
   "name": "python3"
  },
  "language_info": {
   "codemirror_mode": {
    "name": "ipython",
    "version": 3
   },
   "file_extension": ".py",
   "mimetype": "text/x-python",
   "name": "python",
   "nbconvert_exporter": "python",
   "pygments_lexer": "ipython3",
   "version": "3.11.9"
  }
 },
 "nbformat": 4,
 "nbformat_minor": 5
}
